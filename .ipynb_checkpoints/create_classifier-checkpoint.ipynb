{
 "cells": [
  {
   "cell_type": "code",
   "execution_count": 1,
   "metadata": {},
   "outputs": [],
   "source": [
    "# Deep Learning\n",
    "from skorch import NeuralNetClassifier\n",
    "from skorch.callbacks import Checkpoint\n",
    "import torch\n",
    "from torch import nn\n",
    "import torch.nn.functional as F\n",
    "import torchvision\n",
    "import torchvision.transforms as transforms\n",
    "\n",
    "# Adversarials\n",
    "from art.estimators.classification import PyTorchClassifier\n",
    "from art.attacks.evasion import FastGradientMethod\n",
    "\n",
    "# Stats and Math\n",
    "from sklearn.metrics import confusion_matrix, classification_report\n",
    "import numpy as np\n",
    "\n",
    "# Utilities\n",
    "import matplotlib.pyplot as plt\n",
    "import pickle\n",
    "\n"
   ]
  },
  {
   "cell_type": "code",
   "execution_count": 2,
   "metadata": {},
   "outputs": [
    {
     "name": "stdout",
     "output_type": "stream",
     "text": [
      "torch.Size([60000, 1, 28, 28])\n",
      "torch.Size([60000])\n",
      "cuda:0\n"
     ]
    },
    {
     "data": {
      "image/png": "[encoded data removed]",
      "text/plain": [
       "<Figure size 432x288 with 1 Axes>"
      ]
     },
     "metadata": {
      "needs_background": "light"
     },
     "output_type": "display_data"
    }
   ],
   "source": [
    "device = torch.device(\"cuda:0\" if torch.cuda.is_available() else \"cpu\")\n",
    "\n",
    "download_data = False # set to true if running for first time\n",
    "trainset = torchvision.datasets.FashionMNIST(root=\"./data\",train=True, download=download_data, transform=transforms.ToTensor())\n",
    "testset = torchvision.datasets.FashionMNIST(root=\"./data\",train=False, download=download_data, transform=transforms.ToTensor())\n",
    "\n",
    "class_names = ['T-shirt/top', 'Trouser', 'Pullover', 'Dress', 'Coat', \n",
    "               'Sandal', 'Shirt', 'Sneaker', 'Bag', 'Ankle boot']\n",
    "\n",
    "# *** NOTE *** \n",
    "# If using skorch don't need to set to CUDA right now will do it for you\n",
    "# Otherwise for pytorch add .to(device) to all tensors\n",
    "X_train = trainset.data.reshape(-1, 1, 28, 28).type(torch.float32)/255\n",
    "X_test = (testset.data.reshape(-1, 1, 28, 28).type(torch.float32)/255).numpy()\n",
    "y_train = trainset.targets\n",
    "y_test = testset.targets.numpy()\n",
    "plt.imshow(X_train[200,0,:,:].cpu())\n",
    "print(X_train.shape)\n",
    "print(y_train.shape)\n",
    "print(device)"
   ]
  },
  {
   "cell_type": "code",
   "execution_count": 3,
   "metadata": {},
   "outputs": [],
   "source": [
    "class Fashion_Model(nn.Module):\n",
    "    def __init__(self):\n",
    "        super(Fashion_Model, self).__init__()\n",
    "        self.conv1 = nn.Conv2d(1, 16, 3, stride=1, padding=1)\n",
    "        self.conv2 = nn.Conv2d(16, 4, 3, stride=1, padding=1)\n",
    "        self.pool = nn.MaxPool2d(2)\n",
    "        self.fc1 = nn.Linear(7*7*4, 100)\n",
    "        self.out = nn.Linear(100, 10)\n",
    "        \n",
    "    def forward(self, X, **kwargs):\n",
    "        X = self.pool(F.relu(self.conv1(X)))\n",
    "        X = self.pool(F.relu(self.conv2(X)))\n",
    "        X = torch.flatten(X, start_dim=1)\n",
    "        X = F.relu(self.fc1(X))\n",
    "        X = self.out(X)\n",
    "        X = F.softmax(X, dim=-1)\n",
    "\n",
    "        return X\n",
    "\n",
    "models_dir = 'models/'\n",
    "model_name = 'test'\n",
    "cp_file = \"{}model_{}.p\".format(models_dir, model_name)\n",
    "cp = Checkpoint(f_params=None, f_optimizer=None, f_history=None,f_pickle=cp_file)\n",
    "net = NeuralNetClassifier(\n",
    "    Fashion_Model,\n",
    "    max_epochs=100,\n",
    "    lr=0.01,\n",
    "    batch_size=128,\n",
    "    device=device,\n",
    "    callbacks=[cp],\n",
    ")\n"
   ]
  },
  {
   "cell_type": "code",
   "execution_count": 4,
   "metadata": {},
   "outputs": [
    {
     "name": "stdout",
     "output_type": "stream",
     "text": [
      "  epoch    train_loss    valid_acc    valid_loss    cp     dur\n",
      "-------  ------------  -----------  ------------  ----  ------\n",
      "      1        \u001b[36m1.9038\u001b[0m       \u001b[32m0.6484\u001b[0m        \u001b[35m0.9368\u001b[0m     +  1.2701\n"
     ]
    },
    {
     "name": "stderr",
     "output_type": "stream",
     "text": [
      "/home/adrian/projects/env_adv/lib/python3.6/site-packages/torch/serialization.py:402: UserWarning: Couldn't retrieve source code for container of type Fashion_Model. It won't be checked for correctness upon loading.\n",
      "  \"type \" + obj.__name__ + \". It won't be checked \"\n",
      "/home/adrian/projects/env_adv/lib/python3.6/site-packages/torch/storage.py:34: FutureWarning: pickle support for Storage will be removed in 1.5. Use `torch.save` instead\n",
      "  warnings.warn(\"pickle support for Storage will be removed in 1.5. Use `torch.save` instead\", FutureWarning)\n"
     ]
    },
    {
     "name": "stdout",
     "output_type": "stream",
     "text": [
      "      2        \u001b[36m0.8182\u001b[0m       \u001b[32m0.7153\u001b[0m        \u001b[35m0.8029\u001b[0m     +  1.2331\n",
      "      3        \u001b[36m0.7085\u001b[0m       \u001b[32m0.7341\u001b[0m        \u001b[35m0.7006\u001b[0m     +  1.2423\n",
      "      4        \u001b[36m0.6501\u001b[0m       \u001b[32m0.7538\u001b[0m        \u001b[35m0.6396\u001b[0m     +  1.2435\n",
      "      5        \u001b[36m0.6116\u001b[0m       \u001b[32m0.7715\u001b[0m        \u001b[35m0.5985\u001b[0m     +  1.2335\n",
      "      6        \u001b[36m0.5827\u001b[0m       \u001b[32m0.7813\u001b[0m        \u001b[35m0.5711\u001b[0m     +  1.2403\n",
      "      7        \u001b[36m0.5596\u001b[0m       \u001b[32m0.7915\u001b[0m        \u001b[35m0.5485\u001b[0m     +  1.2437\n",
      "      8        \u001b[36m0.5398\u001b[0m       \u001b[32m0.7964\u001b[0m        \u001b[35m0.5315\u001b[0m     +  1.2421\n",
      "      9        \u001b[36m0.5224\u001b[0m       \u001b[32m0.8111\u001b[0m        \u001b[35m0.5072\u001b[0m     +  1.2425\n",
      "     10        \u001b[36m0.5067\u001b[0m       \u001b[32m0.8162\u001b[0m        \u001b[35m0.4961\u001b[0m     +  1.2419\n",
      "     11        \u001b[36m0.4930\u001b[0m       \u001b[32m0.8230\u001b[0m        \u001b[35m0.4819\u001b[0m     +  1.2437\n",
      "     12        \u001b[36m0.4813\u001b[0m       \u001b[32m0.8269\u001b[0m        \u001b[35m0.4715\u001b[0m     +  1.2431\n",
      "     13        \u001b[36m0.4707\u001b[0m       \u001b[32m0.8298\u001b[0m        \u001b[35m0.4633\u001b[0m     +  1.2378\n",
      "     14        \u001b[36m0.4613\u001b[0m       \u001b[32m0.8333\u001b[0m        \u001b[35m0.4543\u001b[0m     +  1.2369\n",
      "     15        \u001b[36m0.4523\u001b[0m       \u001b[32m0.8347\u001b[0m        \u001b[35m0.4460\u001b[0m     +  1.2368\n",
      "     16        \u001b[36m0.4445\u001b[0m       \u001b[32m0.8367\u001b[0m        \u001b[35m0.4419\u001b[0m     +  1.2388\n",
      "     17        \u001b[36m0.4372\u001b[0m       \u001b[32m0.8380\u001b[0m        \u001b[35m0.4362\u001b[0m     +  1.2480\n",
      "     18        \u001b[36m0.4305\u001b[0m       \u001b[32m0.8425\u001b[0m        \u001b[35m0.4269\u001b[0m     +  1.2475\n",
      "     19        \u001b[36m0.4237\u001b[0m       \u001b[32m0.8475\u001b[0m        \u001b[35m0.4172\u001b[0m     +  1.2427\n",
      "     20        \u001b[36m0.4176\u001b[0m       \u001b[32m0.8487\u001b[0m        \u001b[35m0.4123\u001b[0m     +  1.2451\n",
      "     21        \u001b[36m0.4119\u001b[0m       \u001b[32m0.8502\u001b[0m        \u001b[35m0.4071\u001b[0m     +  1.2365\n",
      "     22        \u001b[36m0.4068\u001b[0m       \u001b[32m0.8523\u001b[0m        \u001b[35m0.4027\u001b[0m     +  1.2422\n",
      "     23        \u001b[36m0.4016\u001b[0m       \u001b[32m0.8538\u001b[0m        \u001b[35m0.3979\u001b[0m     +  1.2373\n",
      "     24        \u001b[36m0.3969\u001b[0m       \u001b[32m0.8552\u001b[0m        \u001b[35m0.3942\u001b[0m     +  1.2462\n",
      "     25        \u001b[36m0.3923\u001b[0m       \u001b[32m0.8580\u001b[0m        \u001b[35m0.3884\u001b[0m     +  1.2473\n",
      "     26        \u001b[36m0.3878\u001b[0m       \u001b[32m0.8587\u001b[0m        \u001b[35m0.3854\u001b[0m     +  1.2394\n",
      "     27        \u001b[36m0.3835\u001b[0m       0.8582        \u001b[35m0.3843\u001b[0m     +  1.2480\n",
      "     28        \u001b[36m0.3796\u001b[0m       \u001b[32m0.8601\u001b[0m        \u001b[35m0.3802\u001b[0m     +  1.2458\n",
      "     29        \u001b[36m0.3757\u001b[0m       \u001b[32m0.8608\u001b[0m        \u001b[35m0.3770\u001b[0m     +  1.2421\n",
      "     30        \u001b[36m0.3720\u001b[0m       \u001b[32m0.8622\u001b[0m        \u001b[35m0.3730\u001b[0m     +  1.2494\n",
      "     31        \u001b[36m0.3683\u001b[0m       0.8619        \u001b[35m0.3723\u001b[0m     +  1.2443\n",
      "     32        \u001b[36m0.3650\u001b[0m       \u001b[32m0.8637\u001b[0m        \u001b[35m0.3685\u001b[0m     +  1.2417\n",
      "     33        \u001b[36m0.3615\u001b[0m       \u001b[32m0.8645\u001b[0m        \u001b[35m0.3656\u001b[0m     +  1.2438\n",
      "     34        \u001b[36m0.3583\u001b[0m       \u001b[32m0.8660\u001b[0m        \u001b[35m0.3636\u001b[0m     +  1.2410\n",
      "     35        \u001b[36m0.3552\u001b[0m       \u001b[32m0.8671\u001b[0m        \u001b[35m0.3620\u001b[0m     +  1.2418\n",
      "     36        \u001b[36m0.3521\u001b[0m       \u001b[32m0.8672\u001b[0m        \u001b[35m0.3606\u001b[0m     +  1.2463\n",
      "     37        \u001b[36m0.3492\u001b[0m       \u001b[32m0.8677\u001b[0m        \u001b[35m0.3584\u001b[0m     +  1.2470\n",
      "     38        \u001b[36m0.3464\u001b[0m       \u001b[32m0.8690\u001b[0m        \u001b[35m0.3553\u001b[0m     +  1.2471\n",
      "     39        \u001b[36m0.3436\u001b[0m       \u001b[32m0.8694\u001b[0m        \u001b[35m0.3535\u001b[0m     +  1.2487\n",
      "     40        \u001b[36m0.3411\u001b[0m       \u001b[32m0.8708\u001b[0m        \u001b[35m0.3514\u001b[0m     +  1.2456\n",
      "     41        \u001b[36m0.3384\u001b[0m       0.8707        \u001b[35m0.3505\u001b[0m     +  1.2440\n",
      "     42        \u001b[36m0.3360\u001b[0m       \u001b[32m0.8712\u001b[0m        \u001b[35m0.3486\u001b[0m     +  1.2393\n",
      "     43        \u001b[36m0.3336\u001b[0m       \u001b[32m0.8729\u001b[0m        \u001b[35m0.3446\u001b[0m     +  1.2381\n",
      "     44        \u001b[36m0.3311\u001b[0m       0.8723        0.3454        1.2390\n",
      "     45        \u001b[36m0.3289\u001b[0m       \u001b[32m0.8733\u001b[0m        \u001b[35m0.3442\u001b[0m     +  1.2417\n",
      "     46        \u001b[36m0.3268\u001b[0m       \u001b[32m0.8752\u001b[0m        \u001b[35m0.3425\u001b[0m     +  1.2519\n",
      "     47        \u001b[36m0.3244\u001b[0m       \u001b[32m0.8759\u001b[0m        \u001b[35m0.3392\u001b[0m     +  1.2464\n",
      "     48        \u001b[36m0.3221\u001b[0m       \u001b[32m0.8768\u001b[0m        \u001b[35m0.3373\u001b[0m     +  1.2423\n",
      "     49        \u001b[36m0.3201\u001b[0m       \u001b[32m0.8784\u001b[0m        \u001b[35m0.3351\u001b[0m     +  1.2481\n",
      "     50        \u001b[36m0.3181\u001b[0m       0.8773        0.3355        1.2499\n",
      "     51        \u001b[36m0.3162\u001b[0m       \u001b[32m0.8786\u001b[0m        \u001b[35m0.3323\u001b[0m     +  1.2386\n",
      "     52        \u001b[36m0.3141\u001b[0m       \u001b[32m0.8790\u001b[0m        \u001b[35m0.3316\u001b[0m     +  1.2361\n",
      "     53        \u001b[36m0.3121\u001b[0m       0.8787        \u001b[35m0.3315\u001b[0m     +  1.2475\n",
      "     54        \u001b[36m0.3102\u001b[0m       \u001b[32m0.8796\u001b[0m        \u001b[35m0.3281\u001b[0m     +  1.2480\n",
      "     55        \u001b[36m0.3082\u001b[0m       \u001b[32m0.8805\u001b[0m        \u001b[35m0.3276\u001b[0m     +  1.2469\n",
      "     56        \u001b[36m0.3065\u001b[0m       \u001b[32m0.8806\u001b[0m        \u001b[35m0.3257\u001b[0m     +  1.2458\n",
      "     57        \u001b[36m0.3047\u001b[0m       \u001b[32m0.8818\u001b[0m        \u001b[35m0.3241\u001b[0m     +  1.2453\n",
      "     58        \u001b[36m0.3031\u001b[0m       \u001b[32m0.8819\u001b[0m        \u001b[35m0.3238\u001b[0m     +  1.2457\n",
      "     59        \u001b[36m0.3013\u001b[0m       \u001b[32m0.8825\u001b[0m        \u001b[35m0.3216\u001b[0m     +  1.2530\n",
      "     60        \u001b[36m0.2995\u001b[0m       \u001b[32m0.8829\u001b[0m        \u001b[35m0.3214\u001b[0m     +  1.2472\n",
      "     61        \u001b[36m0.2979\u001b[0m       0.8829        \u001b[35m0.3211\u001b[0m     +  1.2486\n",
      "     62        \u001b[36m0.2962\u001b[0m       \u001b[32m0.8831\u001b[0m        \u001b[35m0.3203\u001b[0m     +  1.2481\n",
      "     63        \u001b[36m0.2947\u001b[0m       \u001b[32m0.8835\u001b[0m        \u001b[35m0.3182\u001b[0m     +  1.2523\n",
      "     64        \u001b[36m0.2931\u001b[0m       0.8832        0.3189        1.2534\n",
      "     65        \u001b[36m0.2917\u001b[0m       0.8825        0.3200        1.2493\n",
      "     66        \u001b[36m0.2903\u001b[0m       \u001b[32m0.8838\u001b[0m        0.3192        1.2557\n",
      "     67        \u001b[36m0.2886\u001b[0m       0.8833        0.3184        1.2730\n",
      "     68        \u001b[36m0.2871\u001b[0m       \u001b[32m0.8842\u001b[0m        \u001b[35m0.3164\u001b[0m     +  1.3139\n",
      "     69        \u001b[36m0.2854\u001b[0m       0.8839        \u001b[35m0.3152\u001b[0m     +  1.3248\n",
      "     70        \u001b[36m0.2839\u001b[0m       \u001b[32m0.8857\u001b[0m        \u001b[35m0.3147\u001b[0m     +  1.3112\n",
      "     71        \u001b[36m0.2825\u001b[0m       0.8850        \u001b[35m0.3146\u001b[0m     +  1.3023\n",
      "     72        \u001b[36m0.2811\u001b[0m       \u001b[32m0.8861\u001b[0m        \u001b[35m0.3127\u001b[0m     +  1.3026\n",
      "     73        \u001b[36m0.2796\u001b[0m       0.8852        0.3138        1.2805\n",
      "     74        \u001b[36m0.2783\u001b[0m       \u001b[32m0.8865\u001b[0m        \u001b[35m0.3112\u001b[0m     +  1.2811\n",
      "     75        \u001b[36m0.2769\u001b[0m       0.8864        0.3119        1.3040\n",
      "     76        \u001b[36m0.2757\u001b[0m       0.8858        0.3113        1.4180\n",
      "     77        \u001b[36m0.2743\u001b[0m       \u001b[32m0.8873\u001b[0m        \u001b[35m0.3097\u001b[0m     +  1.2485\n",
      "     78        \u001b[36m0.2730\u001b[0m       \u001b[32m0.8882\u001b[0m        \u001b[35m0.3090\u001b[0m     +  1.2529\n",
      "     79        \u001b[36m0.2718\u001b[0m       0.8882        \u001b[35m0.3087\u001b[0m     +  1.3215\n",
      "     80        \u001b[36m0.2705\u001b[0m       \u001b[32m0.8887\u001b[0m        \u001b[35m0.3083\u001b[0m     +  1.3123\n",
      "     81        \u001b[36m0.2692\u001b[0m       0.8878        0.3085        1.2729\n",
      "     82        \u001b[36m0.2680\u001b[0m       0.8880        \u001b[35m0.3064\u001b[0m     +  1.2785\n",
      "     83        \u001b[36m0.2666\u001b[0m       0.8880        \u001b[35m0.3060\u001b[0m     +  1.2563\n",
      "     84        \u001b[36m0.2654\u001b[0m       \u001b[32m0.8893\u001b[0m        \u001b[35m0.3052\u001b[0m     +  1.2947\n",
      "     85        \u001b[36m0.2641\u001b[0m       0.8887        \u001b[35m0.3051\u001b[0m     +  1.3414\n",
      "     86        \u001b[36m0.2630\u001b[0m       0.8888        \u001b[35m0.3044\u001b[0m     +  1.2781\n",
      "     87        \u001b[36m0.2619\u001b[0m       0.8885        0.3049        1.3661\n",
      "     88        \u001b[36m0.2608\u001b[0m       \u001b[32m0.8897\u001b[0m        0.3045        1.3080\n",
      "     89        \u001b[36m0.2596\u001b[0m       \u001b[32m0.8903\u001b[0m        \u001b[35m0.3030\u001b[0m     +  1.2730\n",
      "     90        \u001b[36m0.2584\u001b[0m       0.8896        \u001b[35m0.3029\u001b[0m     +  1.2699\n",
      "     91        \u001b[36m0.2574\u001b[0m       0.8893        0.3034        1.2617\n",
      "     92        \u001b[36m0.2564\u001b[0m       0.8897        \u001b[35m0.3024\u001b[0m     +  1.2523\n",
      "     93        \u001b[36m0.2553\u001b[0m       0.8902        \u001b[35m0.2996\u001b[0m     +  1.2604\n",
      "     94        \u001b[36m0.2541\u001b[0m       0.8896        0.3016        1.3376\n",
      "     95        \u001b[36m0.2532\u001b[0m       \u001b[32m0.8905\u001b[0m        0.3003        1.3239\n",
      "     96        \u001b[36m0.2521\u001b[0m       \u001b[32m0.8906\u001b[0m        0.3003        1.5124\n",
      "     97        \u001b[36m0.2512\u001b[0m       \u001b[32m0.8908\u001b[0m        0.2996        1.4491\n"
     ]
    },
    {
     "name": "stdout",
     "output_type": "stream",
     "text": [
      "     98        \u001b[36m0.2501\u001b[0m       \u001b[32m0.8919\u001b[0m        \u001b[35m0.2981\u001b[0m     +  1.3909\n",
      "     99        \u001b[36m0.2491\u001b[0m       0.8911        0.2987        1.3777\n",
      "    100        \u001b[36m0.2482\u001b[0m       0.8913        0.2990        1.3802\n"
     ]
    },
    {
     "data": {
      "text/plain": [
       "<class 'skorch.classifier.NeuralNetClassifier'>[initialized](\n",
       "  module_=Fashion_Model(\n",
       "    (conv1): Conv2d(1, 16, kernel_size=(3, 3), stride=(1, 1), padding=(1, 1))\n",
       "    (conv2): Conv2d(16, 4, kernel_size=(3, 3), stride=(1, 1), padding=(1, 1))\n",
       "    (pool): MaxPool2d(kernel_size=2, stride=2, padding=0, dilation=1, ceil_mode=False)\n",
       "    (fc1): Linear(in_features=196, out_features=100, bias=True)\n",
       "    (out): Linear(in_features=100, out_features=10, bias=True)\n",
       "  ),\n",
       ")"
      ]
     },
     "execution_count": 4,
     "metadata": {},
     "output_type": "execute_result"
    }
   ],
   "source": [
    "net.fit(X_train, y_train)"
   ]
  },
  {
   "cell_type": "code",
   "execution_count": 5,
   "metadata": {},
   "outputs": [],
   "source": [
    "with open(cp_file, 'rb') as f:\n",
    "    net = pickle.load(f)"
   ]
  },
  {
   "cell_type": "code",
   "execution_count": 6,
   "metadata": {},
   "outputs": [
    {
     "name": "stdout",
     "output_type": "stream",
     "text": [
      "Accuracy: 0.886\n",
      "MAE: 0.3834\n",
      "confusion matrix: (Truth x Pred)\n",
      "[[893   0  32  22   3   0  37   0  13   0]\n",
      " [  3 964   1  26   2   0   3   0   1   0]\n",
      " [ 17   1 872   8  56   0  42   0   4   0]\n",
      " [ 34   5  11 910  16   0  18   0   6   0]\n",
      " [  1   1  94  48 809   0  44   0   3   0]\n",
      " [  1   0   2   0   0 949   0  31   1  16]\n",
      " [205   2 110  30  76   0 561   0  16   0]\n",
      " [  0   0   0   0   0  13   0 962   1  24]\n",
      " [  4   1   3   7   3   0   0   3 978   1]\n",
      " [  1   0   0   1   0   2   1  33   0 962]]\n",
      "class accuracies\n",
      "[0.893 0.964 0.872 0.91  0.809 0.949 0.561 0.962 0.978 0.962]\n",
      "              precision    recall  f1-score   support\n",
      "\n",
      " T-shirt/top       0.77      0.89      0.83      1000\n",
      "     Trouser       0.99      0.96      0.98      1000\n",
      "    Pullover       0.78      0.87      0.82      1000\n",
      "       Dress       0.87      0.91      0.89      1000\n",
      "        Coat       0.84      0.81      0.82      1000\n",
      "      Sandal       0.98      0.95      0.97      1000\n",
      "       Shirt       0.79      0.56      0.66      1000\n",
      "     Sneaker       0.93      0.96      0.95      1000\n",
      "         Bag       0.96      0.98      0.97      1000\n",
      "  Ankle boot       0.96      0.96      0.96      1000\n",
      "\n",
      "    accuracy                           0.89     10000\n",
      "   macro avg       0.89      0.89      0.88     10000\n",
      "weighted avg       0.89      0.89      0.88     10000\n",
      "\n"
     ]
    }
   ],
   "source": [
    "y_pred_proba = net.predict_proba(X_test)\n",
    "y_pred = net.predict(X_test)\n",
    "\n",
    "def classification_results(y_true, y_pred):\n",
    "    acc = np.sum(y_true == y_pred) / len(y_true)\n",
    "    mae = np.mean(np.abs(y_true-y_pred)) \n",
    "    cm = confusion_matrix(y_true, y_pred)\n",
    "    class_acc = cm.diagonal()/cm.sum(axis=1)\n",
    "\n",
    "    print(\"Accuracy: {}\".format(acc))\n",
    "    print(\"MAE: {}\".format(mae))\n",
    "    print(\"confusion matrix: (Truth x Pred)\")\n",
    "    print(cm)\n",
    "    print(\"class accuracies\")\n",
    "    print(class_acc)\n",
    "    print(classification_report(y_true, y_pred, target_names=class_names))\n",
    "\n",
    "classification_results(y_true=y_test, y_pred=y_pred)"
   ]
  },
  {
   "cell_type": "code",
   "execution_count": 7,
   "metadata": {},
   "outputs": [
    {
     "data": {
      "text/plain": [
       "<matplotlib.image.AxesImage at 0x7f709d5dfac8>"
      ]
     },
     "execution_count": 7,
     "metadata": {},
     "output_type": "execute_result"
    },
    {
     "data": {
      "image/png": "[encoded data removed]",
      "text/plain": [
       "<Figure size 432x288 with 1 Axes>"
      ]
     },
     "metadata": {
      "needs_background": "light"
     },
     "output_type": "display_data"
    }
   ],
   "source": [
    "i_shirts = np.argwhere(y_test == 6)\n",
    "X_shirts = X_test[i_shirts[:,0],:,:,:]\n",
    "y_shirts = y_test[i_shirts]\n",
    "plt.imshow(X_shirts[0,0,:,:])"
   ]
  },
  {
   "cell_type": "code",
   "execution_count": 8,
   "metadata": {},
   "outputs": [],
   "source": [
    "from sklearn.preprocessing import OneHotEncoder"
   ]
  },
  {
   "cell_type": "code",
   "execution_count": 9,
   "metadata": {},
   "outputs": [
    {
     "name": "stdout",
     "output_type": "stream",
     "text": [
      "[0 0 0 ... 0 0 0]\n",
      "[[1.]\n",
      " [1.]\n",
      " [1.]\n",
      " ...\n",
      " [1.]\n",
      " [1.]\n",
      " [1.]]\n"
     ]
    }
   ],
   "source": [
    "target_class = 6\n",
    "targets = y_test\n",
    "targets[targets==targets] = 0\n",
    "onehot_encoder = OneHotEncoder(sparse=False)\n",
    "targets_encoded = targets.reshape(len(targets), 1)\n",
    "targets_encoded = onehot_encoder.fit_transform(targets_encoded)\n",
    "print(targets)\n",
    "print(targets_encoded)"
   ]
  },
  {
   "cell_type": "code",
   "execution_count": 10,
   "metadata": {},
   "outputs": [],
   "source": [
    "# Create Adversarial Patch\n",
    "epsilon = 0.2\n",
    "classifier = PyTorchClassifier(clip_values=(0, 1), model=net.module_, loss=net.criterion_, input_shape=(28,28), nb_classes=10)\n",
    "crafter = FastGradientMethod(classifier, eps=epsilon, targeted=True)"
   ]
  },
  {
   "cell_type": "code",
   "execution_count": 11,
   "metadata": {},
   "outputs": [],
   "source": [
    "X_test_adv = crafter.generate(X_test, y=targets_encoded)"
   ]
  },
  {
   "cell_type": "code",
   "execution_count": 19,
   "metadata": {},
   "outputs": [
    {
     "name": "stdout",
     "output_type": "stream",
     "text": [
      "(10000, 1, 28, 28)\n"
     ]
    },
    {
     "data": {
      "text/plain": [
       "<matplotlib.image.AxesImage at 0x7f709d1d84a8>"
      ]
     },
     "execution_count": 19,
     "metadata": {},
     "output_type": "execute_result"
    },
    {
     "data": {
      "image/png": "[encoded data removed]",
      "text/plain": [
       "<Figure size 432x288 with 1 Axes>"
      ]
     },
     "metadata": {
      "needs_background": "light"
     },
     "output_type": "display_data"
    }
   ],
   "source": [
    "print(X_test_adv.shape)\n",
    "plt.imshow(X_test_adv[i_shirts[2,0],0,:,:])"
   ]
  },
  {
   "cell_type": "code",
   "execution_count": null,
   "metadata": {},
   "outputs": [],
   "source": [
    "y_pred_adv = net.predict(X_test_adv)\n",
    "classification_results(y_true=y_test, y_pred=y_pred_adv)"
   ]
  },
  {
   "cell_type": "code",
   "execution_count": null,
   "metadata": {},
   "outputs": [],
   "source": []
  },
  {
   "cell_type": "code",
   "execution_count": null,
   "metadata": {},
   "outputs": [],
   "source": []
  },
  {
   "cell_type": "code",
   "execution_count": null,
   "metadata": {},
   "outputs": [],
   "source": []
  },
  {
   "cell_type": "code",
   "execution_count": null,
   "metadata": {},
   "outputs": [],
   "source": []
  },
  {
   "cell_type": "code",
   "execution_count": null,
   "metadata": {},
   "outputs": [],
   "source": [
    "net_pt = net.module_\n",
    "net_pt.__dict__\n",
    "#net_pt._parameters.__dict__"
   ]
  },
  {
   "cell_type": "code",
   "execution_count": null,
   "metadata": {},
   "outputs": [],
   "source": [
    "# Extra Code Backups\n",
    "\n",
    "\n",
    "\n",
    "for i in range(28):\n",
    "    for j in range(28):\n",
    "        with open('img.txt', 'a') as file:\n",
    "            file.write(str(int(img[i,j])) + '  ')\n",
    "    with open('img.txt', 'a') as file:\n",
    "            file.write('\\n')"
   ]
  }
 ],
 "metadata": {
  "kernelspec": {
   "display_name": "Python 3",
   "language": "python",
   "name": "python3"
  },
  "language_info": {
   "codemirror_mode": {
    "name": "ipython",
    "version": 3
   },
   "file_extension": ".py",
   "mimetype": "text/x-python",
   "name": "python",
   "nbconvert_exporter": "python",
   "pygments_lexer": "ipython3",
   "version": "3.6.9"
  }
 },
 "nbformat": 4,
 "nbformat_minor": 2
}
