{
 "cells": [
  {
   "cell_type": "code",
   "execution_count": 13,
   "metadata": {},
   "outputs": [],
   "source": [
    "from skorch import NeuralNetClassifier\n",
    "import torch\n",
    "from torch import nn\n",
    "import torch.nn.functional as F\n",
    "import torchvision\n",
    "import torchvision.transforms as transforms\n",
    "\n",
    "import matplotlib.pyplot as plt\n",
    "import numpy as np"
   ]
  },
  {
   "cell_type": "code",
   "execution_count": 7,
   "metadata": {},
   "outputs": [
    {
     "name": "stdout",
     "output_type": "stream",
     "text": [
      "torch.Size([60000, 1, 28, 28])\n",
      "torch.Size([60000])\n"
     ]
    },
    {
     "data": {
      "image/png": "[encoded data removed]",
      "text/plain": [
       "<Figure size 432x288 with 1 Axes>"
      ]
     },
     "metadata": {
      "needs_background": "light"
     },
     "output_type": "display_data"
    }
   ],
   "source": [
    "download_data = False # set to true if running for first time\n",
    "trainset = torchvision.datasets.FashionMNIST(root=\"./data\",train=True, download=download_data, transform=transforms.ToTensor())\n",
    "testset = torchvision.datasets.FashionMNIST(root=\"./data\",train=False, download=download_data, transform=transforms.ToTensor())\n",
    "X_train = trainset.data.reshape(-1, 1, 28, 28).type(torch.float32)/255\n",
    "X_test = testset.data.reshape(-1, 1, 28, 28).type(torch.float32)/255\n",
    "y_train = trainset.targets\n",
    "y_test = testset.targets\n",
    "plt.imshow(X_train[200,0,:,:])\n",
    "print(X_train.shape)\n",
    "print(y_train.shape)"
   ]
  },
  {
   "cell_type": "code",
   "execution_count": 8,
   "metadata": {},
   "outputs": [],
   "source": [
    "class Fashion_Model(nn.Module):\n",
    "    def __init__(self):\n",
    "        super(Fashion_Model, self).__init__()\n",
    "        self.conv1 = nn.Conv2d(1, 4, 3, stride=1, padding=1)\n",
    "        self.conv2 = nn.Conv2d(4, 1, 3, stride=1, padding=1)\n",
    "        \n",
    "        self.fc1 = nn.Linear(28*28, 300)\n",
    "        self.fc2 = nn.Linear(300, 10)\n",
    "        \n",
    "    def forward(self, X, **kwargs):\n",
    "        X = F.relu(self.conv1(X))\n",
    "        X = F.relu(self.conv2(X))\n",
    "        #print(X.shape)\n",
    "        X = torch.flatten(X, start_dim=1)\n",
    "        #print(X.shape)\n",
    "        X = F.relu(self.fc1(X))\n",
    "        X = F.sigmoid(self.fc2(X))\n",
    "        X = F.softmax(X, dim=-1)\n",
    "        return X\n",
    "\n",
    "net = NeuralNetClassifier(\n",
    "    Fashion_Model,\n",
    "    max_epochs=10,\n",
    "    lr=0.1,\n",
    ")"
   ]
  },
  {
   "cell_type": "code",
   "execution_count": 9,
   "metadata": {},
   "outputs": [
    {
     "name": "stderr",
     "output_type": "stream",
     "text": [
      "/home/adrian/projects/env_adv/lib/python3.6/site-packages/torch/nn/functional.py:1569: UserWarning: nn.functional.sigmoid is deprecated. Use torch.sigmoid instead.\n",
      "  warnings.warn(\"nn.functional.sigmoid is deprecated. Use torch.sigmoid instead.\")\n"
     ]
    },
    {
     "name": "stdout",
     "output_type": "stream",
     "text": [
      "  epoch    train_loss    valid_acc    valid_loss     dur\n",
      "-------  ------------  -----------  ------------  ------\n",
      "      1        \u001b[36m1.7347\u001b[0m       \u001b[32m0.5236\u001b[0m        \u001b[35m1.6632\u001b[0m  3.9604\n",
      "      2        \u001b[36m1.6429\u001b[0m       \u001b[32m0.6589\u001b[0m        \u001b[35m1.6421\u001b[0m  3.6637\n",
      "      3        \u001b[36m1.6265\u001b[0m       0.6487        \u001b[35m1.6251\u001b[0m  3.7330\n",
      "      4        \u001b[36m1.6199\u001b[0m       \u001b[32m0.7250\u001b[0m        \u001b[35m1.6204\u001b[0m  3.7031\n",
      "      5        \u001b[36m1.6172\u001b[0m       0.7045        1.6219  3.8041\n",
      "      6        \u001b[36m1.6113\u001b[0m       \u001b[32m0.7830\u001b[0m        \u001b[35m1.6104\u001b[0m  3.9465\n",
      "      7        \u001b[36m1.6085\u001b[0m       0.7707        \u001b[35m1.6053\u001b[0m  3.3022\n",
      "      8        \u001b[36m1.6058\u001b[0m       \u001b[32m0.8038\u001b[0m        1.6064  3.5989\n",
      "      9        \u001b[36m1.5999\u001b[0m       0.7837        1.6082  3.6694\n",
      "     10        \u001b[36m1.5841\u001b[0m       0.7977        \u001b[35m1.5948\u001b[0m  3.9617\n"
     ]
    },
    {
     "data": {
      "text/plain": [
       "<class 'skorch.classifier.NeuralNetClassifier'>[initialized](\n",
       "  module_=Fashion_Model(\n",
       "    (conv1): Conv2d(1, 4, kernel_size=(3, 3), stride=(1, 1), padding=(1, 1))\n",
       "    (conv2): Conv2d(4, 1, kernel_size=(3, 3), stride=(1, 1), padding=(1, 1))\n",
       "    (fc1): Linear(in_features=784, out_features=300, bias=True)\n",
       "    (fc2): Linear(in_features=300, out_features=10, bias=True)\n",
       "  ),\n",
       ")"
      ]
     },
     "execution_count": 9,
     "metadata": {},
     "output_type": "execute_result"
    }
   ],
   "source": [
    "net.fit(X_train, y_train)"
   ]
  },
  {
   "cell_type": "code",
   "execution_count": 20,
   "metadata": {},
   "outputs": [],
   "source": [
    "from sklearn.metrics import confusion_matrix"
   ]
  },
  {
   "cell_type": "code",
   "execution_count": 21,
   "metadata": {},
   "outputs": [
    {
     "name": "stdout",
     "output_type": "stream",
     "text": [
      "[[875   2  54  32   1   0  25   0  11   0]\n",
      " [ 12 928  22  32   4   0   0   0   2   0]\n",
      " [ 14   0 853   6 123   0   2   0   2   0]\n",
      " [ 60  22  35 830  41   0   8   0   3   1]\n",
      " [  4   0 319  25 642   0   5   0   5   0]\n",
      " [  2   0   1   0   0 848   0 101   5  43]\n",
      " [302   1 341  22 240   0  85   0   9   0]\n",
      " [  1   0   0   0   0  10   0 971   0  18]\n",
      " [  5   1  47   4   4   1   2   7 929   0]\n",
      " [  0   0   0   0   0   4   0  88   1 907]]\n",
      "tensor(0.6708)\n"
     ]
    }
   ],
   "source": [
    "y_pred_proba = net.predict_proba(X_test)\n",
    "y_pred = net.predict(X_test)\n",
    "\n",
    "mae = torch.mean(torch.abs(y_test-y_pred).type(torch.float32)) \n",
    "\n",
    "#for i in range(len(y_pred)):\n",
    "#    print(\"y_true: {} y_pred: {}\".format(y_test[i], y_pred[i]))\n",
    "print(confusion_matrix(y_test, y_pred))\n",
    "print(mae)"
   ]
  },
  {
   "cell_type": "code",
   "execution_count": null,
   "metadata": {},
   "outputs": [],
   "source": []
  },
  {
   "cell_type": "code",
   "execution_count": null,
   "metadata": {},
   "outputs": [],
   "source": []
  },
  {
   "cell_type": "code",
   "execution_count": null,
   "metadata": {},
   "outputs": [],
   "source": []
  },
  {
   "cell_type": "code",
   "execution_count": null,
   "metadata": {},
   "outputs": [],
   "source": []
  },
  {
   "cell_type": "code",
   "execution_count": null,
   "metadata": {},
   "outputs": [],
   "source": []
  },
  {
   "cell_type": "code",
   "execution_count": null,
   "metadata": {},
   "outputs": [],
   "source": []
  }
 ],
 "metadata": {
  "kernelspec": {
   "display_name": "Python 3",
   "language": "python",
   "name": "python3"
  },
  "language_info": {
   "codemirror_mode": {
    "name": "ipython",
    "version": 3
   },
   "file_extension": ".py",
   "mimetype": "text/x-python",
   "name": "python",
   "nbconvert_exporter": "python",
   "pygments_lexer": "ipython3",
   "version": "3.6.9"
  }
 },
 "nbformat": 4,
 "nbformat_minor": 2
}
